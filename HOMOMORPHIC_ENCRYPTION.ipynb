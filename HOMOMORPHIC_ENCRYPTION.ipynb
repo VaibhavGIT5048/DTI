{
  "nbformat": 4,
  "nbformat_minor": 0,
  "metadata": {
    "colab": {
      "provenance": [],
      "authorship_tag": "ABX9TyNyqBXrwRyeM+VLeD+D/6nL",
      "include_colab_link": true
    },
    "kernelspec": {
      "name": "python3",
      "display_name": "Python 3"
    },
    "language_info": {
      "name": "python"
    }
  },
  "cells": [
    {
      "cell_type": "markdown",
      "metadata": {
        "id": "view-in-github",
        "colab_type": "text"
      },
      "source": [
        "<a href=\"https://colab.research.google.com/github/VaibhavGIT5048/DTI/blob/main/HOMOMORPHIC_ENCRYPTION.ipynb\" target=\"_parent\"><img src=\"https://colab.research.google.com/assets/colab-badge.svg\" alt=\"Open In Colab\"/></a>"
      ]
    },
    {
      "cell_type": "code",
      "source": [
        "# Sample employee data ingestion\n",
        "def ingest_employee_data():\n",
        "    employee_data = {\n",
        "        'employee_1': {'name': 'Alice', 'salary': 50000, 'sensitive_info': 'SSN1234'},\n",
        "        'employee_2': {'name': 'Bob', 'salary': 60000, 'sensitive_info': 'SSN5678'},\n",
        "        'employee_3': {'name': 'Charlie', 'salary': 70000, 'sensitive_info': 'SSN9101'},\n",
        "    }\n",
        "    return employee_data"
      ],
      "metadata": {
        "id": "yZuAZcW_3YLJ"
      },
      "execution_count": 81,
      "outputs": []
    },
    {
      "cell_type": "code",
      "source": [
        "!pip install pycryptodome\n",
        "!pip install lightphe\n",
        "\n"
      ],
      "metadata": {
        "colab": {
          "base_uri": "https://localhost:8080/"
        },
        "collapsed": true,
        "id": "cAanbw6l3mzh",
        "outputId": "39bf1383-6fd4-4cb3-f42a-23c9bd85b2a6"
      },
      "execution_count": 82,
      "outputs": [
        {
          "output_type": "stream",
          "name": "stdout",
          "text": [
            "Collecting pycryptodome\n",
            "  Downloading pycryptodome-3.21.0-cp36-abi3-manylinux_2_17_x86_64.manylinux2014_x86_64.whl.metadata (3.4 kB)\n",
            "Downloading pycryptodome-3.21.0-cp36-abi3-manylinux_2_17_x86_64.manylinux2014_x86_64.whl (2.3 MB)\n",
            "\u001b[?25l   \u001b[90m━━━━━━━━━━━━━━━━━━━━━━━━━━━━━━━━━━━━━━━━\u001b[0m \u001b[32m0.0/2.3 MB\u001b[0m \u001b[31m?\u001b[0m eta \u001b[36m-:--:--\u001b[0m\r\u001b[2K   \u001b[91m━━━━━━━━━━━━━━━━━━━━━━━━━━━━━━━━━━━━━━\u001b[0m\u001b[91m╸\u001b[0m\u001b[90m━\u001b[0m \u001b[32m2.2/2.3 MB\u001b[0m \u001b[31m64.1 MB/s\u001b[0m eta \u001b[36m0:00:01\u001b[0m\r\u001b[2K   \u001b[90m━━━━━━━━━━━━━━━━━━━━━━━━━━━━━━━━━━━━━━━━\u001b[0m \u001b[32m2.3/2.3 MB\u001b[0m \u001b[31m35.8 MB/s\u001b[0m eta \u001b[36m0:00:00\u001b[0m\n",
            "\u001b[?25hInstalling collected packages: pycryptodome\n",
            "Successfully installed pycryptodome-3.21.0\n",
            "Requirement already satisfied: lightphe in /usr/local/lib/python3.10/dist-packages (0.0.8)\n",
            "Requirement already satisfied: sympy==1.12 in /usr/local/lib/python3.10/dist-packages (from lightphe) (1.12)\n",
            "Requirement already satisfied: pytest==7.1.2 in /usr/local/lib/python3.10/dist-packages (from lightphe) (7.1.2)\n",
            "Requirement already satisfied: attrs>=19.2.0 in /usr/local/lib/python3.10/dist-packages (from pytest==7.1.2->lightphe) (24.2.0)\n",
            "Requirement already satisfied: iniconfig in /usr/local/lib/python3.10/dist-packages (from pytest==7.1.2->lightphe) (2.0.0)\n",
            "Requirement already satisfied: packaging in /usr/local/lib/python3.10/dist-packages (from pytest==7.1.2->lightphe) (24.2)\n",
            "Requirement already satisfied: pluggy<2.0,>=0.12 in /usr/local/lib/python3.10/dist-packages (from pytest==7.1.2->lightphe) (1.5.0)\n",
            "Requirement already satisfied: py>=1.8.2 in /usr/local/lib/python3.10/dist-packages (from pytest==7.1.2->lightphe) (1.11.0)\n",
            "Requirement already satisfied: tomli>=1.0.0 in /usr/local/lib/python3.10/dist-packages (from pytest==7.1.2->lightphe) (2.2.1)\n",
            "Requirement already satisfied: mpmath>=0.19 in /usr/local/lib/python3.10/dist-packages (from sympy==1.12->lightphe) (1.3.0)\n"
          ]
        }
      ]
    },
    {
      "cell_type": "code",
      "source": [
        "from Crypto.Cipher import AES\n",
        "from Crypto.Util.Padding import pad, unpad\n",
        "import os\n",
        "from lightphe import LightPHE\n",
        "\n",
        "# AES encryption function\n",
        "def aes_encrypt(data, key):\n",
        "    cipher = AES.new(key, AES.MODE_CBC)\n",
        "    ct_bytes = cipher.encrypt(pad(data.encode(), AES.block_size))\n",
        "    return cipher.iv + ct_bytes  # Prepend IV for decryption\n",
        "\n",
        "# Initialize LightPHE for homomorphic encryption\n",
        "lightphe_cs = LightPHE(algorithm_name='Paillier')\n",
        "\n",
        "def encrypt_employee_data(employee_data):\n",
        "    # Generate a random AES key\n",
        "    aes_key = os.urandom(16)  # AES key size of 16 bytes (128 bits)\n",
        "\n",
        "    encrypted_data = {}\n",
        "\n",
        "    for emp_id, info in employee_data.items():\n",
        "        # Encrypt sensitive information using AES\n",
        "        encrypted_info = aes_encrypt(info['sensitive_info'], aes_key)\n",
        "\n",
        "        # Encrypt salary using LightPHE\n",
        "        encrypted_salary = lightphe_cs.encrypt(info['salary'])\n",
        "\n",
        "        encrypted_data[emp_id] = {\n",
        "            'name': info['name'],\n",
        "            'encrypted_salary': encrypted_salary,\n",
        "            'encrypted_sensitive_info': encrypted_info,\n",
        "            'aes_key': aes_key  # Store the AES key securely (e.g., in a secure vault)\n",
        "        }\n",
        "\n",
        "    return encrypted_data"
      ],
      "metadata": {
        "id": "yl-Lu_7C32nJ"
      },
      "execution_count": 83,
      "outputs": []
    },
    {
      "cell_type": "code",
      "source": [
        "# Simulate storing encrypted data in cloud storage\n",
        "def store_encrypted_data(encrypted_data):\n",
        "    # In a real application, this would involve cloud storage APIs (e.g., AWS S3, Azure Blob)\n",
        "    print(\"Storing encrypted data in cloud...\")\n",
        "    return encrypted_data  # Simulating storage by returning the data"
      ],
      "metadata": {
        "id": "OOvw3-tW36aT"
      },
      "execution_count": 84,
      "outputs": []
    },
    {
      "cell_type": "code",
      "source": [
        "def compute_total_payroll(encrypted_data):\n",
        "    total_payroll_encrypted = lightphe_cs.encrypt(0)  # Start with an encrypted zero\n",
        "\n",
        "    for emp_id, info in encrypted_data.items():\n",
        "        total_payroll_encrypted += info['encrypted_salary']  # Homomorphic addition\n",
        "\n",
        "    return total_payroll_encrypted\n",
        "\n",
        "# Decrypting total payroll (on-premises)\n",
        "def decrypt_total_payroll(total_payroll_encrypted):\n",
        "    total_payroll_decrypted = lightphe_cs.decrypt(total_payroll_encrypted)\n",
        "    return total_payroll_decrypted"
      ],
      "metadata": {
        "id": "i9co6Xnz36-S"
      },
      "execution_count": 85,
      "outputs": []
    },
    {
      "cell_type": "code",
      "source": [
        "# Placeholder function for blockchain integration for auditing purposes\n",
        "def audit_with_blockchain(encrypted_data):\n",
        "    print(\"Auditing data integrity with blockchain...\")\n",
        "    # Implement blockchain logic here to log transactions or changes securely."
      ],
      "metadata": {
        "id": "PKC2XEvQ39Il"
      },
      "execution_count": 86,
      "outputs": []
    },
    {
      "cell_type": "code",
      "source": [
        "if __name__ == \"__main__\":\n",
        "    # Data Ingestion Layer: User uploads employee data.\n",
        "    employee_data = ingest_employee_data()\n",
        "\n",
        "    # Encryption Layer: Apply hybrid encryption.\n",
        "    encrypted_data = encrypt_employee_data(employee_data)\n",
        "\n",
        "    # Storage Layer: Store encrypted data securely.\n",
        "    stored_data = store_encrypted_data(encrypted_data)\n",
        "\n",
        "    # Processing Layer: Compute total payroll on encrypted salaries.\n",
        "    total_payroll_encrypted = compute_total_payroll(stored_data)\n",
        "\n",
        "    # Decrypting total payroll (simulated on-premises decryption).\n",
        "    total_payroll_decrypted = decrypt_total_payroll(total_payroll_encrypted)\n",
        "\n",
        "    print(f\"\\nTotal Payroll (Decrypted): ${total_payroll_decrypted}K\")\n",
        "\n",
        "    # Auditing Layer: Use blockchain for integrity checks.\n",
        "    audit_with_blockchain(stored_data)"
      ],
      "metadata": {
        "colab": {
          "base_uri": "https://localhost:8080/"
        },
        "id": "cu83Nlk_3_C-",
        "outputId": "632ab358-92dd-426a-9479-2685c88a3f2c"
      },
      "execution_count": 87,
      "outputs": [
        {
          "output_type": "stream",
          "name": "stdout",
          "text": [
            "Storing encrypted data in cloud...\n",
            "\n",
            "Total Payroll (Decrypted): $180000K\n",
            "Auditing data integrity with blockchain...\n"
          ]
        }
      ]
    },
    {
      "cell_type": "code",
      "source": [],
      "metadata": {
        "id": "CPZAg4194A4V"
      },
      "execution_count": null,
      "outputs": []
    }
  ]
}